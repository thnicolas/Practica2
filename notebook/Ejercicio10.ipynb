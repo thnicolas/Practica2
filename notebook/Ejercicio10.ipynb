{
 "cells": [
  {
   "cell_type": "markdown",
   "metadata": {},
   "source": [
    "# **PRACTICA 2**"
   ]
  },
  {
   "cell_type": "markdown",
   "metadata": {},
   "source": [
    "## Ejercicio 10"
   ]
  },
  {
   "cell_type": "code",
   "execution_count": 2,
   "metadata": {},
   "outputs": [
    {
     "name": "stdout",
     "output_type": "stream",
     "text": [
      "Ronda 1\n",
      "+---------+-------+---------+--------+------+-------+\n",
      "| Jugador | Kills | Assists | Deaths | MVPs | Score |\n",
      "+---------+-------+---------+--------+------+-------+\n",
      "|  Shadow |   2   |    1    |   1    |  1   |   6   |\n",
      "|  Viper  |   1   |    2    |   1    |  0   |   4   |\n",
      "|  Reaper |   1   |    1    |   0    |  0   |   4   |\n",
      "|  Blaze  |   1   |    0    |   0    |  0   |   3   |\n",
      "|  Frost  |   0   |    1    |   0    |  0   |   1   |\n",
      "+---------+-------+---------+--------+------+-------+\n",
      "Ronda 2\n",
      "+---------+-------+---------+--------+------+-------+\n",
      "| Jugador | Kills | Assists | Deaths | MVPs | Score |\n",
      "+---------+-------+---------+--------+------+-------+\n",
      "|  Frost  |   2   |    1    |   1    |  1   |   6   |\n",
      "|  Blaze  |   2   |    0    |   1    |  0   |   5   |\n",
      "|  Viper  |   1   |    1    |   0    |  0   |   4   |\n",
      "|  Shadow |   0   |    2    |   0    |  0   |   2   |\n",
      "|  Reaper |   0   |    1    |   0    |  0   |   1   |\n",
      "+---------+-------+---------+--------+------+-------+\n",
      "Ronda 3\n",
      "+---------+-------+---------+--------+------+-------+\n",
      "| Jugador | Kills | Assists | Deaths | MVPs | Score |\n",
      "+---------+-------+---------+--------+------+-------+\n",
      "|  Blaze  |   2   |    2    |   1    |  1   |   7   |\n",
      "|  Reaper |   1   |    1    |   0    |  0   |   4   |\n",
      "|  Shadow |   1   |    0    |   0    |  0   |   3   |\n",
      "|  Viper  |   1   |    1    |   1    |  0   |   3   |\n",
      "|  Frost  |   0   |    1    |   0    |  0   |   1   |\n",
      "+---------+-------+---------+--------+------+-------+\n",
      "Ronda 4\n",
      "+---------+-------+---------+--------+------+-------+\n",
      "| Jugador | Kills | Assists | Deaths | MVPs | Score |\n",
      "+---------+-------+---------+--------+------+-------+\n",
      "|  Shadow |   2   |    1    |   0    |  1   |   7   |\n",
      "|  Reaper |   1   |    1    |   0    |  0   |   4   |\n",
      "|  Frost  |   1   |    1    |   1    |  0   |   3   |\n",
      "|  Blaze  |   1   |    0    |   1    |  0   |   2   |\n",
      "|  Viper  |   0   |    2    |   0    |  0   |   2   |\n",
      "+---------+-------+---------+--------+------+-------+\n",
      "Ronda 5\n",
      "+---------+-------+---------+--------+------+-------+\n",
      "| Jugador | Kills | Assists | Deaths | MVPs | Score |\n",
      "+---------+-------+---------+--------+------+-------+\n",
      "|  Viper  |   2   |    0    |   1    |  1   |   5   |\n",
      "|  Shadow |   1   |    2    |   1    |  0   |   4   |\n",
      "|  Frost  |   1   |    1    |   0    |  0   |   4   |\n",
      "|  Reaper |   1   |    1    |   1    |  0   |   3   |\n",
      "|  Blaze  |   0   |    1    |   0    |  0   |   1   |\n",
      "+---------+-------+---------+--------+------+-------+\n"
     ]
    },
    {
     "ename": "UnboundLocalError",
     "evalue": "cannot access local variable 'r_Final' where it is not associated with a value",
     "output_type": "error",
     "traceback": [
      "\u001b[31m---------------------------------------------------------------------------\u001b[39m",
      "\u001b[31mUnboundLocalError\u001b[39m                         Traceback (most recent call last)",
      "\u001b[36mCell\u001b[39m\u001b[36m \u001b[39m\u001b[32mIn[2]\u001b[39m\u001b[32m, line 46\u001b[39m\n\u001b[32m      4\u001b[39m \u001b[38;5;28;01mfrom\u001b[39;00m\u001b[38;5;250m \u001b[39m\u001b[34;01msrc\u001b[39;00m\u001b[34;01m.\u001b[39;00m\u001b[34;01mranking\u001b[39;00m\u001b[38;5;250m \u001b[39m\u001b[38;5;28;01mimport\u001b[39;00m crear_ranking\n\u001b[32m      8\u001b[39m rounds = [\n\u001b[32m      9\u001b[39m {\n\u001b[32m     10\u001b[39m \u001b[33m'\u001b[39m\u001b[33mShadow\u001b[39m\u001b[33m'\u001b[39m: {\u001b[33m'\u001b[39m\u001b[33mkills\u001b[39m\u001b[33m'\u001b[39m: \u001b[32m2\u001b[39m, \u001b[33m'\u001b[39m\u001b[33massists\u001b[39m\u001b[33m'\u001b[39m: \u001b[32m1\u001b[39m, \u001b[33m'\u001b[39m\u001b[33mdeaths\u001b[39m\u001b[33m'\u001b[39m: \u001b[38;5;28;01mTrue\u001b[39;00m},\n\u001b[32m   (...)\u001b[39m\u001b[32m     42\u001b[39m }\n\u001b[32m     43\u001b[39m ]\n\u001b[32m---> \u001b[39m\u001b[32m46\u001b[39m \u001b[43mcrear_ranking\u001b[49m\u001b[43m(\u001b[49m\u001b[43mrounds\u001b[49m\u001b[43m)\u001b[49m\n",
      "\u001b[36mFile \u001b[39m\u001b[32mc:\\Users\\NICO\\Documents\\Practica2\\src\\ranking\\__init__.py:37\u001b[39m, in \u001b[36mcrear_ranking\u001b[39m\u001b[34m(r)\u001b[39m\n\u001b[32m     33\u001b[39m         rank_final[mejor_jugador][\u001b[33m\"\u001b[39m\u001b[33mMVPs\u001b[39m\u001b[33m\"\u001b[39m] += \u001b[32m1\u001b[39m  \n\u001b[32m     35\u001b[39m     imprimir_tabla(rank_rondas)\n\u001b[32m---> \u001b[39m\u001b[32m37\u001b[39m r_Final= \u001b[38;5;28mdict\u001b[39m(\u001b[38;5;28msorted\u001b[39m(\u001b[43mr_Final\u001b[49m.items(), key=\u001b[38;5;28;01mlambda\u001b[39;00m item: item[\u001b[32m1\u001b[39m][\u001b[33m\"\u001b[39m\u001b[33mscore\u001b[39m\u001b[33m\"\u001b[39m], reverse=\u001b[38;5;28;01mTrue\u001b[39;00m))\n\u001b[32m     39\u001b[39m imprimir_tabla (rank_final)\n",
      "\u001b[31mUnboundLocalError\u001b[39m: cannot access local variable 'r_Final' where it is not associated with a value"
     ]
    }
   ],
   "source": [
    "import sys\n",
    "import os\n",
    "sys.path.append(os.path.abspath(\"..\"))\n",
    "from src.ranking import crear_ranking\n",
    "\n",
    "\n",
    "\n",
    "rounds = [\n",
    "{\n",
    "'Shadow': {'kills': 2, 'assists': 1, 'deaths': True},\n",
    "'Blaze': {'kills': 1, 'assists': 0, 'deaths': False},\n",
    "'Viper': {'kills': 1, 'assists': 2, 'deaths': True},\n",
    "'Frost': {'kills': 0, 'assists': 1, 'deaths': False},\n",
    "'Reaper': {'kills': 1, 'assists': 1, 'deaths': False}\n",
    "},\n",
    "{\n",
    "'Shadow': {'kills': 0, 'assists': 2, 'deaths': False},\n",
    "'Blaze': {'kills': 2, 'assists': 0, 'deaths': True},\n",
    "'Viper': {'kills': 1, 'assists': 1, 'deaths': False},\n",
    "'Frost': {'kills': 2, 'assists': 1, 'deaths': True},\n",
    "'Reaper': {'kills': 0, 'assists': 1, 'deaths': False}\n",
    "},\n",
    "{\n",
    "'Shadow': {'kills': 1, 'assists': 0, 'deaths': False},\n",
    "'Blaze': {'kills': 2, 'assists': 2, 'deaths': True},\n",
    "'Viper': {'kills': 1, 'assists': 1, 'deaths': True},\n",
    "'Frost': {'kills': 0, 'assists': 1, 'deaths': False},\n",
    "'Reaper': {'kills': 1, 'assists': 1, 'deaths': False}\n",
    "},{\n",
    "'Shadow': {'kills': 2, 'assists': 1, 'deaths': False},\n",
    "'Blaze': {'kills': 1, 'assists': 0, 'deaths': True},\n",
    "'Viper': {'kills': 0, 'assists': 2, 'deaths': False},\n",
    "'Frost': {'kills': 1, 'assists': 1, 'deaths': True},\n",
    "'Reaper': {'kills': 1, 'assists': 1, 'deaths': False}\n",
    "},\n",
    "{\n",
    "'Shadow': {'kills': 1, 'assists': 2, 'deaths': True},\n",
    "'Blaze': {'kills': 0, 'assists': 1, 'deaths': False},\n",
    "'Viper': {'kills': 2, 'assists': 0, 'deaths': True},\n",
    "'Frost': {'kills': 1, 'assists': 1, 'deaths': False},\n",
    "'Reaper': {'kills': 1, 'assists': 1, 'deaths': True}\n",
    "}\n",
    "]\n",
    "\n",
    "\n",
    "crear_ranking(rounds)\n",
    "\n",
    "\n",
    "\n",
    "\n",
    "\n",
    "\n",
    "\n",
    "\n",
    "\n",
    "\n",
    "\n",
    "\n",
    "\n",
    "\n",
    "\n",
    "      \n"
   ]
  }
 ],
 "metadata": {
  "kernelspec": {
   "display_name": "env",
   "language": "python",
   "name": "python3"
  },
  "language_info": {
   "codemirror_mode": {
    "name": "ipython",
    "version": 3
   },
   "file_extension": ".py",
   "mimetype": "text/x-python",
   "name": "python",
   "nbconvert_exporter": "python",
   "pygments_lexer": "ipython3",
   "version": "3.12.9"
  }
 },
 "nbformat": 4,
 "nbformat_minor": 2
}
